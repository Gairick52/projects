{
  "cells": [
    {
      "cell_type": "code",
      "execution_count": null,
      "metadata": {
        "id": "4UW3sPjPpNY9",
        "colab": {
          "base_uri": "https://localhost:8080/"
        },
        "outputId": "f9cb6631-31e4-4c2a-8f8c-f9d292b4fa5d"
      },
      "outputs": [
        {
          "output_type": "stream",
          "name": "stdout",
          "text": [
            "Done\n"
          ]
        }
      ],
      "source": [
        "\n",
        "from zipfile import ZipFile\n",
        "file_name = \"/content/archive.zip\"\n",
        "\n",
        "with ZipFile(file_name, 'r') as zip:\n",
        "  zip.extractall()\n",
        "  print(\"Done\")"
      ]
    },
    {
      "cell_type": "code",
      "execution_count": null,
      "metadata": {
        "id": "N7VJpkLev9O4"
      },
      "outputs": [],
      "source": [
        "\n",
        "\n",
        "import numpy as np\n",
        "import cv2\n",
        "from keras.models import Sequential\n",
        "from keras.layers import Dense, Dropout, Flatten\n",
        "from keras.layers import Conv2D\n",
        "from keras.optimizers import Adam\n",
        "from keras.layers import MaxPooling2D\n",
        "from keras.preprocessing.image import ImageDataGenerator"
      ]
    },
    {
      "cell_type": "code",
      "execution_count": null,
      "metadata": {
        "id": "0PbL4KqMm6VI",
        "colab": {
          "base_uri": "https://localhost:8080/"
        },
        "outputId": "6af20fe7-2f15-4c18-f4cb-8f43aa23552d"
      },
      "outputs": [
        {
          "output_type": "stream",
          "name": "stdout",
          "text": [
            "Found 28709 images belonging to 7 classes.\n",
            "Found 7178 images belonging to 7 classes.\n"
          ]
        }
      ],
      "source": [
        "train_dir = 'train'\n",
        "val_dir = 'test'\n",
        "train_datagen = ImageDataGenerator(rescale=1./255)\n",
        "val_datagen = ImageDataGenerator(rescale=1./255)\n",
        "\n",
        "train_generator = train_datagen.flow_from_directory(\n",
        "        train_dir,\n",
        "        target_size=(48,48),\n",
        "        batch_size=64,\n",
        "        color_mode=\"grayscale\",\n",
        "        class_mode='categorical')\n",
        "\n",
        "validation_generator = val_datagen.flow_from_directory(\n",
        "        val_dir,\n",
        "        target_size=(48,48),\n",
        "        batch_size=64,\n",
        "        color_mode=\"grayscale\",\n",
        "        class_mode='categorical')"
      ]
    },
    {
      "cell_type": "code",
      "execution_count": null,
      "metadata": {
        "id": "Ct8Xmm0nxoo-"
      },
      "outputs": [],
      "source": [
        "\n",
        "emotion_model = Sequential()\n",
        "emotion_model.add(Conv2D(32, kernel_size=(3, 3), activation='relu', input_shape=(48,48,1)))\n",
        "emotion_model.add(Conv2D(64, kernel_size=(3, 3), activation='relu'))\n",
        "emotion_model.add(MaxPooling2D(pool_size=(2, 2)))\n",
        "emotion_model.add(Dropout(0.25))\n",
        "emotion_model.add(Conv2D(128, kernel_size=(3, 3), activation='relu'))\n",
        "emotion_model.add(MaxPooling2D(pool_size=(2, 2)))\n",
        "emotion_model.add(Conv2D(128, kernel_size=(3, 3), activation='relu'))\n",
        "emotion_model.add(MaxPooling2D(pool_size=(2, 2)))\n",
        "emotion_model.add(Dropout(0.25))\n",
        "emotion_model.add(Flatten())\n",
        "emotion_model.add(Dense(1024, activation='relu'))\n",
        "emotion_model.add(Dropout(0.5))\n",
        "emotion_model.add(Dense(7, activation='softmax'))"
      ]
    },
    {
      "cell_type": "code",
      "execution_count": null,
      "metadata": {
        "id": "4Mt1e7pOybdD",
        "colab": {
          "base_uri": "https://localhost:8080/"
        },
        "outputId": "bb36344b-d532-4045-9831-c757633999c0"
      },
      "outputs": [
        {
          "output_type": "stream",
          "name": "stderr",
          "text": [
            "/usr/local/lib/python3.8/dist-packages/keras/optimizers/optimizer_v2/adam.py:110: UserWarning: The `lr` argument is deprecated, use `learning_rate` instead.\n",
            "  super(Adam, self).__init__(name, **kwargs)\n",
            "<ipython-input-13-262a6af64eb7>:2: UserWarning: `Model.fit_generator` is deprecated and will be removed in a future version. Please use `Model.fit`, which supports generators.\n",
            "  emotion_model_info = emotion_model.fit_generator(\n"
          ]
        },
        {
          "output_type": "stream",
          "name": "stdout",
          "text": [
            "Epoch 1/50\n",
            "448/448 [==============================] - 23s 32ms/step - loss: 1.7953 - accuracy: 0.2612 - val_loss: 1.6895 - val_accuracy: 0.3468\n",
            "Epoch 2/50\n",
            "448/448 [==============================] - 14s 32ms/step - loss: 1.6189 - accuracy: 0.3717 - val_loss: 1.5247 - val_accuracy: 0.4210\n",
            "Epoch 3/50\n",
            "448/448 [==============================] - 14s 31ms/step - loss: 1.5147 - accuracy: 0.4200 - val_loss: 1.4456 - val_accuracy: 0.4485\n",
            "Epoch 4/50\n",
            "448/448 [==============================] - 15s 34ms/step - loss: 1.4439 - accuracy: 0.4468 - val_loss: 1.3928 - val_accuracy: 0.4747\n",
            "Epoch 5/50\n",
            "448/448 [==============================] - 14s 31ms/step - loss: 1.3889 - accuracy: 0.4716 - val_loss: 1.3446 - val_accuracy: 0.4881\n",
            "Epoch 6/50\n",
            "448/448 [==============================] - 14s 31ms/step - loss: 1.3386 - accuracy: 0.4898 - val_loss: 1.3149 - val_accuracy: 0.4989\n",
            "Epoch 7/50\n",
            "448/448 [==============================] - 14s 31ms/step - loss: 1.2959 - accuracy: 0.5088 - val_loss: 1.2845 - val_accuracy: 0.5110\n",
            "Epoch 8/50\n",
            "448/448 [==============================] - 14s 31ms/step - loss: 1.2572 - accuracy: 0.5235 - val_loss: 1.2455 - val_accuracy: 0.5285\n",
            "Epoch 9/50\n",
            "448/448 [==============================] - 14s 31ms/step - loss: 1.2250 - accuracy: 0.5368 - val_loss: 1.2274 - val_accuracy: 0.5331\n",
            "Epoch 10/50\n",
            "448/448 [==============================] - 14s 31ms/step - loss: 1.1938 - accuracy: 0.5518 - val_loss: 1.2070 - val_accuracy: 0.5479\n",
            "Epoch 11/50\n",
            "448/448 [==============================] - 14s 31ms/step - loss: 1.1646 - accuracy: 0.5636 - val_loss: 1.1821 - val_accuracy: 0.5532\n",
            "Epoch 12/50\n",
            "448/448 [==============================] - 14s 31ms/step - loss: 1.1369 - accuracy: 0.5774 - val_loss: 1.1623 - val_accuracy: 0.5617\n",
            "Epoch 13/50\n",
            "448/448 [==============================] - 14s 32ms/step - loss: 1.1080 - accuracy: 0.5872 - val_loss: 1.1470 - val_accuracy: 0.5682\n",
            "Epoch 14/50\n",
            "448/448 [==============================] - 14s 32ms/step - loss: 1.0879 - accuracy: 0.5915 - val_loss: 1.1416 - val_accuracy: 0.5678\n",
            "Epoch 15/50\n",
            "448/448 [==============================] - 14s 31ms/step - loss: 1.0624 - accuracy: 0.6017 - val_loss: 1.1240 - val_accuracy: 0.5780\n",
            "Epoch 16/50\n",
            "448/448 [==============================] - 14s 31ms/step - loss: 1.0405 - accuracy: 0.6143 - val_loss: 1.1306 - val_accuracy: 0.5776\n",
            "Epoch 17/50\n",
            "448/448 [==============================] - 14s 31ms/step - loss: 1.0216 - accuracy: 0.6219 - val_loss: 1.1055 - val_accuracy: 0.5848\n",
            "Epoch 18/50\n",
            "448/448 [==============================] - 14s 31ms/step - loss: 0.9960 - accuracy: 0.6304 - val_loss: 1.1075 - val_accuracy: 0.5879\n",
            "Epoch 19/50\n",
            "448/448 [==============================] - 14s 31ms/step - loss: 0.9776 - accuracy: 0.6381 - val_loss: 1.0992 - val_accuracy: 0.5919\n",
            "Epoch 20/50\n",
            "448/448 [==============================] - 16s 37ms/step - loss: 0.9526 - accuracy: 0.6468 - val_loss: 1.0893 - val_accuracy: 0.5954\n",
            "Epoch 21/50\n",
            "448/448 [==============================] - 14s 31ms/step - loss: 0.9272 - accuracy: 0.6584 - val_loss: 1.0863 - val_accuracy: 0.5960\n",
            "Epoch 22/50\n",
            "448/448 [==============================] - 14s 31ms/step - loss: 0.9063 - accuracy: 0.6647 - val_loss: 1.0741 - val_accuracy: 0.6017\n",
            "Epoch 23/50\n",
            "448/448 [==============================] - 14s 31ms/step - loss: 0.8811 - accuracy: 0.6773 - val_loss: 1.0751 - val_accuracy: 0.6025\n",
            "Epoch 24/50\n",
            "448/448 [==============================] - 14s 32ms/step - loss: 0.8691 - accuracy: 0.6828 - val_loss: 1.0760 - val_accuracy: 0.6034\n",
            "Epoch 25/50\n",
            "448/448 [==============================] - 13s 30ms/step - loss: 0.8407 - accuracy: 0.6915 - val_loss: 1.0767 - val_accuracy: 0.6024\n",
            "Epoch 26/50\n",
            "448/448 [==============================] - 14s 30ms/step - loss: 0.8217 - accuracy: 0.7010 - val_loss: 1.0735 - val_accuracy: 0.6097\n",
            "Epoch 27/50\n",
            "448/448 [==============================] - 14s 30ms/step - loss: 0.8059 - accuracy: 0.7040 - val_loss: 1.0774 - val_accuracy: 0.6044\n",
            "Epoch 28/50\n",
            "448/448 [==============================] - 14s 31ms/step - loss: 0.7798 - accuracy: 0.7127 - val_loss: 1.0675 - val_accuracy: 0.6097\n",
            "Epoch 29/50\n",
            "448/448 [==============================] - 13s 30ms/step - loss: 0.7504 - accuracy: 0.7219 - val_loss: 1.0743 - val_accuracy: 0.6145\n",
            "Epoch 30/50\n",
            "448/448 [==============================] - 14s 30ms/step - loss: 0.7304 - accuracy: 0.7336 - val_loss: 1.0797 - val_accuracy: 0.6134\n",
            "Epoch 31/50\n",
            "448/448 [==============================] - 13s 30ms/step - loss: 0.7062 - accuracy: 0.7422 - val_loss: 1.0936 - val_accuracy: 0.6092\n",
            "Epoch 32/50\n",
            "448/448 [==============================] - 14s 30ms/step - loss: 0.6883 - accuracy: 0.7497 - val_loss: 1.0710 - val_accuracy: 0.6151\n",
            "Epoch 33/50\n",
            "448/448 [==============================] - 13s 29ms/step - loss: 0.6625 - accuracy: 0.7611 - val_loss: 1.1102 - val_accuracy: 0.6150\n",
            "Epoch 34/50\n",
            "448/448 [==============================] - 14s 30ms/step - loss: 0.6440 - accuracy: 0.7665 - val_loss: 1.0788 - val_accuracy: 0.6204\n",
            "Epoch 35/50\n",
            "448/448 [==============================] - 14s 31ms/step - loss: 0.6234 - accuracy: 0.7736 - val_loss: 1.0930 - val_accuracy: 0.6218\n",
            "Epoch 36/50\n",
            "448/448 [==============================] - 20s 44ms/step - loss: 0.6034 - accuracy: 0.7791 - val_loss: 1.1019 - val_accuracy: 0.6184\n",
            "Epoch 37/50\n",
            "448/448 [==============================] - 14s 32ms/step - loss: 0.5851 - accuracy: 0.7875 - val_loss: 1.1039 - val_accuracy: 0.6217\n",
            "Epoch 38/50\n",
            "448/448 [==============================] - 15s 32ms/step - loss: 0.5679 - accuracy: 0.7948 - val_loss: 1.1126 - val_accuracy: 0.6208\n",
            "Epoch 39/50\n",
            "448/448 [==============================] - 13s 30ms/step - loss: 0.5422 - accuracy: 0.8033 - val_loss: 1.1162 - val_accuracy: 0.6180\n",
            "Epoch 40/50\n",
            "448/448 [==============================] - 14s 32ms/step - loss: 0.5263 - accuracy: 0.8076 - val_loss: 1.1247 - val_accuracy: 0.6254\n",
            "Epoch 41/50\n",
            "448/448 [==============================] - 13s 30ms/step - loss: 0.5133 - accuracy: 0.8132 - val_loss: 1.1423 - val_accuracy: 0.6222\n",
            "Epoch 42/50\n",
            "448/448 [==============================] - 14s 30ms/step - loss: 0.4899 - accuracy: 0.8224 - val_loss: 1.1365 - val_accuracy: 0.6235\n",
            "Epoch 43/50\n",
            "448/448 [==============================] - 14s 31ms/step - loss: 0.4747 - accuracy: 0.8290 - val_loss: 1.1531 - val_accuracy: 0.6263\n",
            "Epoch 44/50\n",
            "448/448 [==============================] - 14s 31ms/step - loss: 0.4651 - accuracy: 0.8316 - val_loss: 1.1368 - val_accuracy: 0.6222\n",
            "Epoch 45/50\n",
            "448/448 [==============================] - 14s 31ms/step - loss: 0.4450 - accuracy: 0.8411 - val_loss: 1.1774 - val_accuracy: 0.6251\n",
            "Epoch 46/50\n",
            "448/448 [==============================] - 14s 30ms/step - loss: 0.4314 - accuracy: 0.8446 - val_loss: 1.1787 - val_accuracy: 0.6258\n",
            "Epoch 47/50\n",
            "448/448 [==============================] - 14s 30ms/step - loss: 0.4221 - accuracy: 0.8466 - val_loss: 1.1661 - val_accuracy: 0.6263\n",
            "Epoch 48/50\n",
            "448/448 [==============================] - 13s 30ms/step - loss: 0.4049 - accuracy: 0.8554 - val_loss: 1.2040 - val_accuracy: 0.6240\n",
            "Epoch 49/50\n",
            "448/448 [==============================] - 14s 31ms/step - loss: 0.4002 - accuracy: 0.8546 - val_loss: 1.1914 - val_accuracy: 0.6237\n",
            "Epoch 50/50\n",
            "448/448 [==============================] - 14s 31ms/step - loss: 0.3815 - accuracy: 0.8646 - val_loss: 1.2079 - val_accuracy: 0.6239\n"
          ]
        }
      ],
      "source": [
        "\n",
        "emotion_model.compile(loss='categorical_crossentropy',optimizer=Adam(lr=0.0001, decay=1e-6),metrics=['accuracy'])\n",
        "emotion_model_info = emotion_model.fit_generator(\n",
        "        train_generator,\n",
        "        steps_per_epoch=28709 // 64,\n",
        "        epochs=50,\n",
        "        validation_data=validation_generator,\n",
        "        validation_steps=7178 // 64)"
      ]
    },
    {
      "cell_type": "code",
      "execution_count": null,
      "metadata": {
        "id": "1uzO53exyeiH"
      },
      "outputs": [],
      "source": [
        "\n",
        "#Saving the model\n",
        "emotion_model.save('model.h5')"
      ]
    },
    {
      "cell_type": "code",
      "source": [
        "\n",
        "\n",
        "from keras.models import load_model\n",
        "emotion_model = load_model('model.h5')"
      ],
      "metadata": {
        "id": "iFYAc4dvwrtI"
      },
      "execution_count": null,
      "outputs": []
    },
    {
      "cell_type": "code",
      "source": [
        "\n",
        "def emotion_analysis(emotions):\n",
        "    objects = ('angry', 'disgust', 'fear', 'happy', 'sad', 'surprise', 'neutral')\n",
        "    y_pos = np.arange(len(objects))\n",
        "    \n",
        "    plt.bar(y_pos, emotions, align='center', alpha=0.5)\n",
        "    plt.xticks(y_pos, objects)\n",
        "    plt.ylabel('percentage')\n",
        "    plt.title('emotion')\n",
        "    \n",
        "    plt.show()"
      ],
      "metadata": {
        "id": "I0wGw_ynwtm-"
      },
      "execution_count": null,
      "outputs": []
    },
    {
      "cell_type": "code",
      "source": [
        "from IPython.display import display, Javascript\n",
        "from google.colab.output import eval_js\n",
        "from base64 import b64decode\n",
        "\n",
        "def take_photo(filename='photo.jpg', quality=0.8):\n",
        "  js = Javascript('''\n",
        "    async function takePhoto(quality) {\n",
        "      const div = document.createElement('div');\n",
        "      const capture = document.createElement('button');\n",
        "      capture.textContent = 'Capture';\n",
        "      div.appendChild(capture);\n",
        "\n",
        "      const video = document.createElement('video');\n",
        "      video.style.display = 'block';\n",
        "      const stream = await navigator.mediaDevices.getUserMedia({video: true});\n",
        "\n",
        "      document.body.appendChild(div);\n",
        "      div.appendChild(video);\n",
        "      video.srcObject = stream;\n",
        "      await video.play();\n",
        "\n",
        "      // Resize the output to fit the video element.\n",
        "      google.colab.output.setIframeHeight(document.documentElement.scrollHeight, true);\n",
        "\n",
        "      // Wait for Capture to be clicked.\n",
        "      await new Promise((resolve) => capture.onclick = resolve);\n",
        "\n",
        "      const canvas = document.createElement('canvas');\n",
        "      canvas.width = video.videoWidth;\n",
        "      canvas.height = video.videoHeight;\n",
        "      canvas.getContext('2d').drawImage(video, 0, 0);\n",
        "      stream.getVideoTracks()[0].stop();\n",
        "      div.remove();\n",
        "      return canvas.toDataURL('image/jpeg', quality);\n",
        "    }\n",
        "    ''')\n",
        "  display(js)\n",
        "  data = eval_js('takePhoto({})'.format(quality))\n",
        "  binary = b64decode(data.split(',')[1])\n",
        "  with open(filename, 'wb') as f:\n",
        "    f.write(binary)\n",
        "  return filename"
      ],
      "metadata": {
        "id": "rnAwO12vwwm8"
      },
      "execution_count": null,
      "outputs": []
    },
    {
      "cell_type": "code",
      "source": [
        "\n",
        "take_photo()"
      ],
      "metadata": {
        "colab": {
          "base_uri": "https://localhost:8080/",
          "height": 35
        },
        "id": "EE1iMugswyqb",
        "outputId": "93f14f1e-54c3-4099-c9da-643212ff72b4"
      },
      "execution_count": 23,
      "outputs": [
        {
          "output_type": "display_data",
          "data": {
            "text/plain": [
              "<IPython.core.display.Javascript object>"
            ],
            "application/javascript": [
              "\n",
              "    async function takePhoto(quality) {\n",
              "      const div = document.createElement('div');\n",
              "      const capture = document.createElement('button');\n",
              "      capture.textContent = 'Capture';\n",
              "      div.appendChild(capture);\n",
              "\n",
              "      const video = document.createElement('video');\n",
              "      video.style.display = 'block';\n",
              "      const stream = await navigator.mediaDevices.getUserMedia({video: true});\n",
              "\n",
              "      document.body.appendChild(div);\n",
              "      div.appendChild(video);\n",
              "      video.srcObject = stream;\n",
              "      await video.play();\n",
              "\n",
              "      // Resize the output to fit the video element.\n",
              "      google.colab.output.setIframeHeight(document.documentElement.scrollHeight, true);\n",
              "\n",
              "      // Wait for Capture to be clicked.\n",
              "      await new Promise((resolve) => capture.onclick = resolve);\n",
              "\n",
              "      const canvas = document.createElement('canvas');\n",
              "      canvas.width = video.videoWidth;\n",
              "      canvas.height = video.videoHeight;\n",
              "      canvas.getContext('2d').drawImage(video, 0, 0);\n",
              "      stream.getVideoTracks()[0].stop();\n",
              "      div.remove();\n",
              "      return canvas.toDataURL('image/jpeg', quality);\n",
              "    }\n",
              "    "
            ]
          },
          "metadata": {}
        },
        {
          "output_type": "execute_result",
          "data": {
            "text/plain": [
              "'photo.jpg'"
            ],
            "application/vnd.google.colaboratory.intrinsic+json": {
              "type": "string"
            }
          },
          "metadata": {},
          "execution_count": 23
        }
      ]
    },
    {
      "cell_type": "code",
      "source": [
        "import cv2\n",
        "            \n",
        "def facecrop(image):  \n",
        "    facedata = '/content/haarcascade_frontalface_alt.xml'\n",
        "    cascade = cv2.CascadeClassifier(facedata)\n",
        "\n",
        "    img = cv2.imread(image)\n",
        "\n",
        "    try:\n",
        "    \n",
        "        minisize = (img.shape[1],img.shape[0])\n",
        "        miniframe = cv2.resize(img, minisize)\n",
        "\n",
        "        faces = cascade.detectMultiScale(miniframe)\n",
        "\n",
        "        for f in faces:\n",
        "            x, y, w, h = [ v for v in f ]\n",
        "            cv2.rectangle(img, (x,y), (x+w,y+h), (0,255,0), 2)\n",
        "\n",
        "            sub_face = img[y:y+h, x:x+w]\n",
        "\n",
        "            \n",
        "            cv2.imwrite('capture.jpg', sub_face)\n",
        "            #print (\"Writing: \" + image)\n",
        "\n",
        "    except Exception as e:\n",
        "        print (e)\n",
        "\n",
        "   \n",
        "\n",
        "\n",
        "if __name__ == '__main__':\n",
        "    facecrop('/content/photo.jpg')\n",
        "\n",
        "#Testing a file.\n",
        "\n",
        "import keras.utils as image\n",
        "from keras.preprocessing.image import ImageDataGenerator\n",
        "\n",
        "import numpy as np\n",
        "import matplotlib.pyplot as plt\n",
        "\n",
        "\n",
        "file = '/content/capture.jpg'\n",
        "true_image = image.load_img(file)\n",
        "img = image.load_img(file, color_mode=\"grayscale\", target_size=(48, 48))\n",
        "\n",
        "x = image.img_to_array(img)\n",
        "x = np.expand_dims(x, axis = 0)\n",
        "\n",
        "x /= 255\n",
        "\n",
        "custom = emotion_model.predict(x)\n",
        "emotion_analysis(custom[0])\n",
        "\n",
        "x = np.array(x, 'float32')\n",
        "x = x.reshape([48, 48]);\n",
        "\n",
        "\n",
        "plt.imshow(true_image)\n",
        "plt.show()\n",
        "     "
      ],
      "metadata": {
        "id": "Sz3FSi7Sw08K",
        "colab": {
          "base_uri": "https://localhost:8080/",
          "height": 550
        },
        "outputId": "d4fd1f62-729d-40f5-a83f-cf7ede641aa0"
      },
      "execution_count": 24,
      "outputs": [
        {
          "output_type": "stream",
          "name": "stdout",
          "text": [
            "1/1 [==============================] - 0s 417ms/step\n"
          ]
        },
        {
          "output_type": "display_data",
          "data": {
            "text/plain": [
              "<Figure size 432x288 with 1 Axes>"
            ],
            "image/png": "[encoded data removed]"
          },
          "metadata": {
            "needs_background": "light"
          }
        },
        {
          "output_type": "display_data",
          "data": {
            "text/plain": [
              "<Figure size 432x288 with 1 Axes>"
            ],
            "image/png": "[encoded data removed]"
          },
          "metadata": {
            "needs_background": "light"
          }
        }
      ]
    },
    {
      "cell_type": "code",
      "source": [],
      "metadata": {
        "id": "k96658ED6CJP"
      },
      "execution_count": null,
      "outputs": []
    }
  ],
  "metadata": {
    "colab": {
      "provenance": []
    },
    "kernelspec": {
      "display_name": "Python 3",
      "name": "python3"
    },
    "language_info": {
      "name": "python"
    },
    "accelerator": "GPU",
    "gpuClass": "standard"
  },
  "nbformat": 4,
  "nbformat_minor": 0
}